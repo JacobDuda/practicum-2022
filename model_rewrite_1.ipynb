{
 "cells": [
  {
   "cell_type": "code",
   "execution_count": null,
   "metadata": {},
   "outputs": [],
   "source": []
  }
 ],
 "metadata": {
  "kernelspec": {
   "display_name": "Python 3.10.6 64-bit",
   "language": "python",
   "name": "python3"
  },
  "language_info": {
   "name": "python",
   "version": "3.10.6"
  },
  "orig_nbformat": 4,
  "vscode": {
   "interpreter": {
    "hash": "b24840a5067b9560907736a4d123e6383354acaf974a4b953b8d4650b1c3167c"
   }
  }
 },
 "nbformat": 4,
 "nbformat_minor": 2
}
