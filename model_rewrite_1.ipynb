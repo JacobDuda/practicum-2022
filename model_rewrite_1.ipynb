{
 "cells": [
  {
   "cell_type": "markdown",
   "metadata": {},
   "source": [
    "### Neuronal system simulation\n",
    "\n",
    "The following code will simulate the behaviour of the 90 regions of interest, only concerning itself with the neuronal system. The data from this simulation can be transformed into artificial BOLD fMRI data to be used to extract leading eigenvectors and form a PMS. The code in this block was adapted from optim_placebo_psilo.m from the original paper's repository. \n",
    "\n",
    "The output should be the global coupling parameter G=1.6. Remember that this system is attempting to minimize the KLD between it's generated PMS and the original impirical PMS. \n",
    "\n",
    "Issues to resolve:\n",
    "-TR is has been arbitraily defined to be 3, I don't know what it really is, maybe number of groups in PMS?"
   ]
  },
  {
   "cell_type": "code",
   "execution_count": 19,
   "metadata": {},
   "outputs": [
    {
     "name": "stdout",
     "output_type": "stream",
     "text": [
      "Running Balance_J, iteration: 0.5\n",
      "0\n",
      "1\n",
      "2\n",
      "3\n",
      "4\n",
      "5\n",
      "6\n",
      "7\n",
      "8\n",
      "9\n",
      "Finished Balance_J!\n"
     ]
    },
    {
     "ename": "NameError",
     "evalue": "name 'sqrt' is not defined",
     "output_type": "error",
     "traceback": [
      "\u001b[1;31m---------------------------------------------------------------------------\u001b[0m",
      "\u001b[1;31mNameError\u001b[0m                                 Traceback (most recent call last)",
      "\u001b[1;32mc:\\Users\\Jacob\\Desktop\\Practicum\\personal_code\\first_try\\model_rewrite_1.ipynb Cell 2\u001b[0m in \u001b[0;36m<cell line: 31>\u001b[1;34m()\u001b[0m\n\u001b[0;32m     <a href='vscode-notebook-cell:/c%3A/Users/Jacob/Desktop/Practicum/personal_code/first_try/model_rewrite_1.ipynb#W1sZmlsZQ%3D%3D?line=47'>48</a>\u001b[0m rg\u001b[39m=\u001b[39mphii(xg)\n\u001b[0;32m     <a href='vscode-notebook-cell:/c%3A/Users/Jacob/Desktop/Practicum/personal_code/first_try/model_rewrite_1.ipynb#W1sZmlsZQ%3D%3D?line=48'>49</a>\u001b[0m noise\u001b[39m=\u001b[39mnumpy\u001b[39m.\u001b[39mrandom\u001b[39m.\u001b[39mrandn(C,\u001b[39m1\u001b[39m)\n\u001b[1;32m---> <a href='vscode-notebook-cell:/c%3A/Users/Jacob/Desktop/Practicum/personal_code/first_try/model_rewrite_1.ipynb#W1sZmlsZQ%3D%3D?line=49'>50</a>\u001b[0m sn\u001b[39m=\u001b[39msn\u001b[39m+\u001b[39mdt\u001b[39m*\u001b[39m(\u001b[39m-\u001b[39msn\u001b[39m/\u001b[39mtaon\u001b[39m+\u001b[39m(\u001b[39m1\u001b[39m\u001b[39m-\u001b[39msn)\u001b[39m*\u001b[39mgamma\u001b[39m*\u001b[39mrn\u001b[39m/\u001b[39m\u001b[39m1000\u001b[39m)\u001b[39m+\u001b[39msqrt(dt)\u001b[39m*\u001b[39msigma\u001b[39m*\u001b[39mnoise\n\u001b[0;32m     <a href='vscode-notebook-cell:/c%3A/Users/Jacob/Desktop/Practicum/personal_code/first_try/model_rewrite_1.ipynb#W1sZmlsZQ%3D%3D?line=50'>51</a>\u001b[0m \u001b[39mfor\u001b[39;00m region \u001b[39min\u001b[39;00m sn: \u001b[39m#get this checked to make sure it is inline with the matlab code, original code was: sn(sn>1) = 1 (newline) sn(sn<0) = 0\u001b[39;00m\n\u001b[0;32m     <a href='vscode-notebook-cell:/c%3A/Users/Jacob/Desktop/Practicum/personal_code/first_try/model_rewrite_1.ipynb#W1sZmlsZQ%3D%3D?line=51'>52</a>\u001b[0m     \u001b[39mif\u001b[39;00m region\u001b[39m>\u001b[39m\u001b[39m1\u001b[39m:\n",
      "\u001b[1;31mNameError\u001b[0m: name 'sqrt' is not defined"
     ]
    }
   ],
   "source": [
    "import numpy\n",
    "from utils import Balance_J\n",
    "from utils import phii\n",
    "from utils import phie\n",
    "\n",
    "#there is a large segment of code that I cannot interpret at this point, so I have skipped it for now\n",
    "#I will focus on writing the rest of the code, appearing to involve the actual simulation.\n",
    "\n",
    "#importing functions\n",
    "\n",
    "#defining parameters\n",
    "dtt= 1e-3 #sampling rate of the simulated neuronal activity\n",
    "dt=0.1\n",
    "\n",
    "taon=100\n",
    "taog=10\n",
    "gamma=0.641\n",
    "sigma=0.01\n",
    "JN=0.15\n",
    "I0=0.382\n",
    "Jexte=1.\n",
    "Jexti=0.7\n",
    "w=1.4\n",
    "TR=3\n",
    "Tmax=2000\n",
    "boldstep=TR*1000\n",
    "\n",
    "WE=numpy.arange(0.5,2,0.01).tolist() #list from 0.5 -> 2 with a step of 0.01\n",
    "C=10 #there is another definition for C, but I don't know how it works\n",
    "\n",
    "for we in WE:\n",
    "    \n",
    "    Cnew=C\n",
    "\n",
    "    print(\"Running Balance_J, iteration:\", we)\n",
    "    J=Balance_J(we,Cnew) #this definition of Cnew relies on the incorrect definition of C\n",
    "    print(\"Finished Balance_J!\")\n",
    "\n",
    "    for i in range(10):\n",
    "        neuro_act=numpy.zeros((round((1000*(Tmax-1)*TR+1)),C)) #this doesn't make any sense, TR is a parameter undefined at this point, might be equal to 3, described as the repition time in seconds\n",
    "        sn=0.001*(numpy.ones((C,1)))\n",
    "        sg=0.001*(numpy.ones((C,1)))\n",
    "        nn=1\n",
    "        for t in range(int((1000*(Tmax-1)*TR)/dt)):\n",
    "            xn=I0*Jexte+w*JN*sn+we*JN*Cnew*sn-J*sg\n",
    "            xg=I0*Jexti+JN*sn-sg\n",
    "            rn=phie(xn)\n",
    "            rg=phii(xg)\n",
    "            noise=numpy.random.randn(C,1)\n",
    "            sn=sn+dt*(-sn/taon+(1-sn)*gamma*rn/1000)+sqrt(dt)*sigma*noise\n",
    "            for region in sn: #get this checked to make sure it is inline with the matlab code, original code was: sn(sn>1) = 1 (newline) sn(sn<0) = 0\n",
    "                if region>1:\n",
    "                    region=1\n",
    "                elif region<0:\n",
    "                    region=0\n",
    "            noise=numpy.random.randn(C,1)\n",
    "            sg=sg+dt*(-sg/taog+rg/1000)+sqrt(dt)*sigma*noise\n",
    "            for region in sg: #get this checked to make sure it is inline with the matlab code, original code was: sn(sn>1) = 1 (newline) sn(sn<0) = 0\n",
    "                if region>1:\n",
    "                    region=1\n",
    "                elif region<0:\n",
    "                    region=0\n",
    "\n",
    "            print(\"sn[0] after iteration\", t,\"=\", sn[0])\n",
    "            print(\"sg[0] after iteration\", t, \"=\", sg[0])\n",
    "\n",
    "            j=j+1\n",
    "            if abs(t%1)<0.01: #this should definetly get checked\n",
    "                neuro_act[nn]=rn\n",
    "                nn=nn+1\n",
    "        \n",
    "\n",
    "return(sn,sg)"
   ]
  }
 ],
 "metadata": {
  "kernelspec": {
   "display_name": "Python 3.10.6 64-bit",
   "language": "python",
   "name": "python3"
  },
  "language_info": {
   "codemirror_mode": {
    "name": "ipython",
    "version": 3
   },
   "file_extension": ".py",
   "mimetype": "text/x-python",
   "name": "python",
   "nbconvert_exporter": "python",
   "pygments_lexer": "ipython3",
   "version": "3.10.6"
  },
  "orig_nbformat": 4,
  "vscode": {
   "interpreter": {
    "hash": "b24840a5067b9560907736a4d123e6383354acaf974a4b953b8d4650b1c3167c"
   }
  }
 },
 "nbformat": 4,
 "nbformat_minor": 2
}
